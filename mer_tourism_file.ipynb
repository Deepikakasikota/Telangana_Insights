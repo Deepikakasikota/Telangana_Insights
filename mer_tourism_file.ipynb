{
 "cells": [
  {
   "cell_type": "markdown",
   "id": "f3943df0",
   "metadata": {},
   "source": [
    "## Merging the csv files in two different folders into one file:\n",
    "\n",
    "Here we have two different folders.\n",
    "\n",
    "- domestic_visitors\n",
    "- foreign_visitors\n",
    "\n",
    "In each folder there are various csv files contain data from years 2016 to 2019. So, we have to merge all these into one file. "
   ]
  },
  {
   "cell_type": "code",
   "execution_count": 1,
   "id": "28a5d419",
   "metadata": {},
   "outputs": [],
   "source": [
    "# import the required libraries..\n",
    "\n",
    "import numpy as np\n",
    "import pandas as pd\n",
    "import matplotlib.pyplot as plt\n",
    "import seaborn as sns\n"
   ]
  },
  {
   "cell_type": "code",
   "execution_count": 3,
   "id": "03c7d9b4",
   "metadata": {},
   "outputs": [],
   "source": [
    "# loading the datasets...\n",
    "\n",
    "df1  = pd.read_csv(\"E:\\challenge_5\\C5 Input for participants\\domestic_visitors\\domestic_visitors_2016.csv\")\n",
    "df2  = pd.read_csv(\"E:\\challenge_5\\C5 Input for participants\\domestic_visitors\\domestic_visitors_2017.csv\")\n",
    "df3  = pd.read_csv(\"E:\\challenge_5\\C5 Input for participants\\domestic_visitors\\domestic_visitors_2018.csv\")\n",
    "df4  = pd.read_csv(\"E:\\challenge_5\\C5 Input for participants\\domestic_visitors\\domestic_visitors_2019.csv\")"
   ]
  },
  {
   "cell_type": "code",
   "execution_count": 17,
   "id": "968c50b4",
   "metadata": {},
   "outputs": [
    {
     "name": "stdout",
     "output_type": "stream",
     "text": [
      " First 5 rows of all datasets \n",
      "\n",
      "------------------ df1 - 2016  ---------------------- \n",
      "\n",
      "    district        date     month  year visitors\n",
      "0  Adilabad  01-01-2016   January  2016   792136\n",
      "1  Adilabad  01-02-2016  February  2016   937820\n",
      "2  Adilabad  01-03-2016     March  2016   582946\n",
      "3  Adilabad  01-04-2016     April  2016   341948\n",
      "4  Adilabad  01-05-2016       May  2016   252887 \n",
      "\n",
      "------------------ df2 - 2017 ---------------------- \n",
      "\n",
      "    district        date     month  year visitors\n",
      "0  Adilabad  01-01-2017   January  2017   318799\n",
      "1  Adilabad  01-02-2017  February  2017    83316\n",
      "2  Adilabad  01-03-2017     March  2017    27508\n",
      "3  Adilabad  01-04-2017     April  2017    13946\n",
      "4  Adilabad  01-05-2017       May  2017    11752 \n",
      "\n",
      "------------------ df3 - 2018 ---------------------- \n",
      "\n",
      "    district        date     month  year visitors\n",
      "0  Adilabad  01-01-2018   January  2018   320356\n",
      "1  Adilabad  01-02-2018  February  2018    36550\n",
      "2  Adilabad  01-03-2018     March  2018    23011\n",
      "3  Adilabad  01-04-2018     April  2018    14183\n",
      "4  Adilabad  01-05-2018       May  2018     8197 \n",
      "\n",
      "------------------ df4 - 2019 ---------------------- \n",
      "\n",
      "    district        date     month  year visitors\n",
      "0  Adilabad  01-01-2019   January  2019    25071\n",
      "1  Adilabad  01-02-2019  February  2019   406177\n",
      "2  Adilabad  01-03-2019     March  2019    14347\n",
      "3  Adilabad  01-04-2019     April  2019     9972\n",
      "4  Adilabad  01-05-2019       May  2019     6997 \n",
      "\n"
     ]
    }
   ],
   "source": [
    "# print first 5 rows of all datasets...\n",
    "\n",
    "print(\" First 5 rows of all datasets\",\"\\n\")\n",
    "print(\"------------------ df1 - 2016  ---------------------- \")\n",
    "print(\"\\n\",df1.head(), \"\\n\")\n",
    "print(\"------------------ df2 - 2017 ---------------------- \")\n",
    "print(\"\\n\", df2.head(), \"\\n\")\n",
    "print(\"------------------ df3 - 2018 ---------------------- \")\n",
    "print(\"\\n\",df3.head(),\"\\n\")\n",
    "print(\"------------------ df4 - 2019 ---------------------- \")\n",
    "print(\"\\n\",df4.head(),\"\\n\")"
   ]
  },
  {
   "cell_type": "code",
   "execution_count": 20,
   "id": "1a2c4606",
   "metadata": {},
   "outputs": [
    {
     "name": "stdout",
     "output_type": "stream",
     "text": [
      "2016 \n",
      "\n",
      "Total Number of Rows    :  372\n",
      "Total Number of Columns :  5\n",
      "\n",
      "\n",
      "2017 \n",
      "\n",
      "Total Number of Rows    :  372\n",
      "Total Number of Columns :  5\n",
      "\n",
      "\n",
      "2018 \n",
      "\n",
      "Total Number of Rows    :  372\n",
      "Total Number of Columns :  5\n",
      "\n",
      "\n",
      "2019 \n",
      "\n",
      "Total Number of Rows    :  396\n",
      "Total Number of Columns :  5\n"
     ]
    }
   ],
   "source": [
    "# Printing Total Rows and Columns of All Dataset\n",
    "\n",
    "print(\"2016 \\n\")\n",
    "print(\"Total Number of Rows    : \", df1.shape[0])\n",
    "print(\"Total Number of Columns : \", df1.shape[1])\n",
    "print(\"\\n\")\n",
    "\n",
    "print(\"2017 \\n\")\n",
    "print(\"Total Number of Rows    : \", df2.shape[0])\n",
    "print(\"Total Number of Columns : \", df2.shape[1])\n",
    "print(\"\\n\")\n",
    "\n",
    "print(\"2018 \\n\")\n",
    "print(\"Total Number of Rows    : \", df3.shape[0])\n",
    "print(\"Total Number of Columns : \", df3.shape[1])\n",
    "print(\"\\n\")\n",
    "\n",
    "print(\"2019 \\n\")\n",
    "print(\"Total Number of Rows    : \", df4.shape[0])\n",
    "print(\"Total Number of Columns : \", df4.shape[1])\n",
    " "
   ]
  },
  {
   "cell_type": "code",
   "execution_count": 22,
   "id": "cd7fb408",
   "metadata": {},
   "outputs": [
    {
     "name": "stdout",
     "output_type": "stream",
     "text": [
      "2016 \n",
      " district    0\n",
      "date        0\n",
      "month       0\n",
      "year        0\n",
      "visitors    0\n",
      "dtype: int64 \n",
      "\n",
      "2017 \n",
      " district    0\n",
      "date        0\n",
      "month       0\n",
      "year        0\n",
      "visitors    0\n",
      "dtype: int64 \n",
      "\n",
      "2018 \n",
      " district     0\n",
      "date         0\n",
      "month        0\n",
      "year         0\n",
      "visitors    12\n",
      "dtype: int64 \n",
      "\n",
      "2019 \n",
      " district     0\n",
      "date         0\n",
      "month        0\n",
      "year         0\n",
      "visitors    18\n",
      "dtype: int64\n"
     ]
    }
   ],
   "source": [
    "# Printing the Null Values of All Dataset\n",
    "\n",
    "print(\"2016 \\n\", df1.isnull().sum() , \"\\n\")\n",
    "\n",
    "print(\"2017 \\n\", df2.isnull().sum() , \"\\n\")\n",
    "\n",
    "print(\"2018 \\n\", df3.isnull().sum() , \"\\n\")\n",
    "\n",
    "print(\"2019 \\n\", df4.isnull().sum())\n"
   ]
  },
  {
   "cell_type": "code",
   "execution_count": 24,
   "id": "3b1d4427",
   "metadata": {},
   "outputs": [],
   "source": [
    "df3.visitors = df3.visitors.fillna(0)\n",
    "df4.visitors = df4.visitors.fillna(0)"
   ]
  },
  {
   "cell_type": "code",
   "execution_count": 29,
   "id": "06d64bea",
   "metadata": {},
   "outputs": [
    {
     "name": "stdout",
     "output_type": "stream",
     "text": [
      "null values in df3 : \n",
      " \n",
      " district    0\n",
      "date        0\n",
      "month       0\n",
      "year        0\n",
      "visitors    0\n",
      "dtype: int64 \n",
      "\n",
      "null values in df4 : \n",
      " \n",
      " district    0\n",
      "date        0\n",
      "month       0\n",
      "year        0\n",
      "visitors    0\n",
      "dtype: int64\n"
     ]
    }
   ],
   "source": [
    "print(\"null values in df3 : \\n\", \"\\n\", df3.isnull().sum(), \"\\n\")\n",
    "print(\"null values in df4 : \\n\", \"\\n\", df3.isnull().sum())"
   ]
  },
  {
   "cell_type": "code",
   "execution_count": 32,
   "id": "d49caf3d",
   "metadata": {},
   "outputs": [
    {
     "name": "stdout",
     "output_type": "stream",
     "text": [
      "2016 \n",
      " 0\n",
      "2017 \n",
      " 0\n",
      "2018 \n",
      " 0\n",
      "2019 \n",
      " 0\n"
     ]
    }
   ],
   "source": [
    "# Printing the Duplicates Values\n",
    "\n",
    "print(\"2016 \\n\", df1.duplicated().sum())\n",
    "print(\"2017 \\n\", df2.duplicated().sum())\n",
    "print(\"2018 \\n\", df3.duplicated().sum())\n",
    "print(\"2019 \\n\", df4.duplicated().sum())"
   ]
  },
  {
   "cell_type": "code",
   "execution_count": 33,
   "id": "acead52d",
   "metadata": {},
   "outputs": [],
   "source": [
    "# Removing the White Space\n",
    "\n",
    "df1.visitors = df1.visitors.str.replace(' ','')\n",
    "df2.visitors = df2.visitors.str.replace(' ','')\n",
    "df3.visitors = df3.visitors.str.replace(' ','')\n",
    "df4.visitors = df4.visitors.str.replace(' ','')"
   ]
  },
  {
   "cell_type": "code",
   "execution_count": 34,
   "id": "b9420b3e",
   "metadata": {},
   "outputs": [],
   "source": [
    "# Converting the dtypes of columns\n",
    "\n",
    "df1['date'] = pd.to_datetime(df1['date'])\n",
    "df2['date'] = pd.to_datetime(df2['date'])\n",
    "df3['date'] = pd.to_datetime(df3['date'])\n",
    "df4['date'] = pd.to_datetime(df4['date'])\n",
    "\n",
    "\n",
    "df1['year'] = df1['year'].astype('int32')\n",
    "df2['year'] = df2['year'].astype('int32')\n",
    "df3['year'] = df3['year'].astype('int32')\n",
    "df4['year'] = df4['year'].astype('int32')\n",
    "\n",
    "df1['visitors'] = pd.to_numeric(df1['visitors'], errors='coerce')\n",
    "df2['visitors'] = pd.to_numeric(df2['visitors'], errors='coerce')\n",
    "df3['visitors'] = pd.to_numeric(df3['visitors'], errors='coerce')\n",
    "df4['visitors'] = pd.to_numeric(df4['visitors'], errors='coerce')"
   ]
  },
  {
   "cell_type": "code",
   "execution_count": 35,
   "id": "ac7caf8c",
   "metadata": {},
   "outputs": [],
   "source": [
    "# replace NaN and inf values with zero\n",
    "\n",
    "df1['visitors'] = df1['visitors'].replace([np.nan, np.inf], 0)\n",
    "df2['visitors'] = df2['visitors'].replace([np.nan, np.inf], 0)\n",
    "df3['visitors'] = df3['visitors'].replace([np.nan, np.inf], 0)\n",
    "df4['visitors'] = df4['visitors'].replace([np.nan, np.inf], 0)"
   ]
  },
  {
   "cell_type": "code",
   "execution_count": 36,
   "id": "352da8ad",
   "metadata": {},
   "outputs": [],
   "source": [
    "# cast the column to int32\n",
    "\n",
    "df1['visitors'] = df1['visitors'].astype('int32')\n",
    "df2['visitors'] = df2['visitors'].astype('int32')\n",
    "df3['visitors'] = df3['visitors'].astype('int32')\n",
    "df4['visitors'] = df4['visitors'].astype('int32')"
   ]
  },
  {
   "cell_type": "code",
   "execution_count": 37,
   "id": "f404c189",
   "metadata": {},
   "outputs": [
    {
     "data": {
      "text/html": [
       "<div>\n",
       "<style scoped>\n",
       "    .dataframe tbody tr th:only-of-type {\n",
       "        vertical-align: middle;\n",
       "    }\n",
       "\n",
       "    .dataframe tbody tr th {\n",
       "        vertical-align: top;\n",
       "    }\n",
       "\n",
       "    .dataframe thead th {\n",
       "        text-align: right;\n",
       "    }\n",
       "</style>\n",
       "<table border=\"1\" class=\"dataframe\">\n",
       "  <thead>\n",
       "    <tr style=\"text-align: right;\">\n",
       "      <th></th>\n",
       "      <th>district</th>\n",
       "      <th>date</th>\n",
       "      <th>month</th>\n",
       "      <th>year</th>\n",
       "      <th>visitors</th>\n",
       "    </tr>\n",
       "  </thead>\n",
       "  <tbody>\n",
       "    <tr>\n",
       "      <th>0</th>\n",
       "      <td>Adilabad</td>\n",
       "      <td>2016-01-01</td>\n",
       "      <td>January</td>\n",
       "      <td>2016</td>\n",
       "      <td>792136</td>\n",
       "    </tr>\n",
       "    <tr>\n",
       "      <th>1</th>\n",
       "      <td>Adilabad</td>\n",
       "      <td>2016-01-02</td>\n",
       "      <td>February</td>\n",
       "      <td>2016</td>\n",
       "      <td>937820</td>\n",
       "    </tr>\n",
       "    <tr>\n",
       "      <th>2</th>\n",
       "      <td>Adilabad</td>\n",
       "      <td>2016-01-03</td>\n",
       "      <td>March</td>\n",
       "      <td>2016</td>\n",
       "      <td>582946</td>\n",
       "    </tr>\n",
       "    <tr>\n",
       "      <th>3</th>\n",
       "      <td>Adilabad</td>\n",
       "      <td>2016-01-04</td>\n",
       "      <td>April</td>\n",
       "      <td>2016</td>\n",
       "      <td>341948</td>\n",
       "    </tr>\n",
       "    <tr>\n",
       "      <th>4</th>\n",
       "      <td>Adilabad</td>\n",
       "      <td>2016-01-05</td>\n",
       "      <td>May</td>\n",
       "      <td>2016</td>\n",
       "      <td>252887</td>\n",
       "    </tr>\n",
       "  </tbody>\n",
       "</table>\n",
       "</div>"
      ],
      "text/plain": [
       "   district       date     month  year  visitors\n",
       "0  Adilabad 2016-01-01   January  2016    792136\n",
       "1  Adilabad 2016-01-02  February  2016    937820\n",
       "2  Adilabad 2016-01-03     March  2016    582946\n",
       "3  Adilabad 2016-01-04     April  2016    341948\n",
       "4  Adilabad 2016-01-05       May  2016    252887"
      ]
     },
     "execution_count": 37,
     "metadata": {},
     "output_type": "execute_result"
    }
   ],
   "source": [
    "# merging all the datasets...\n",
    "\n",
    "domestic_visitors = pd.concat([df1, df2, df3, df4], axis=0)\n",
    "\n",
    "domestic_visitors.head()"
   ]
  },
  {
   "cell_type": "code",
   "execution_count": 38,
   "id": "ae1da048",
   "metadata": {},
   "outputs": [
    {
     "data": {
      "text/html": [
       "<div>\n",
       "<style scoped>\n",
       "    .dataframe tbody tr th:only-of-type {\n",
       "        vertical-align: middle;\n",
       "    }\n",
       "\n",
       "    .dataframe tbody tr th {\n",
       "        vertical-align: top;\n",
       "    }\n",
       "\n",
       "    .dataframe thead th {\n",
       "        text-align: right;\n",
       "    }\n",
       "</style>\n",
       "<table border=\"1\" class=\"dataframe\">\n",
       "  <thead>\n",
       "    <tr style=\"text-align: right;\">\n",
       "      <th></th>\n",
       "      <th>district</th>\n",
       "      <th>date</th>\n",
       "      <th>month</th>\n",
       "      <th>year</th>\n",
       "      <th>visitors</th>\n",
       "    </tr>\n",
       "  </thead>\n",
       "  <tbody>\n",
       "    <tr>\n",
       "      <th>391</th>\n",
       "      <td>Yadadri Bhongir</td>\n",
       "      <td>2019-01-08</td>\n",
       "      <td>August</td>\n",
       "      <td>2019</td>\n",
       "      <td>389010</td>\n",
       "    </tr>\n",
       "    <tr>\n",
       "      <th>392</th>\n",
       "      <td>Yadadri Bhongir</td>\n",
       "      <td>2019-01-09</td>\n",
       "      <td>September</td>\n",
       "      <td>2019</td>\n",
       "      <td>366862</td>\n",
       "    </tr>\n",
       "    <tr>\n",
       "      <th>393</th>\n",
       "      <td>Yadadri Bhongir</td>\n",
       "      <td>2019-01-10</td>\n",
       "      <td>October</td>\n",
       "      <td>2019</td>\n",
       "      <td>381860</td>\n",
       "    </tr>\n",
       "    <tr>\n",
       "      <th>394</th>\n",
       "      <td>Yadadri Bhongir</td>\n",
       "      <td>2019-01-11</td>\n",
       "      <td>November</td>\n",
       "      <td>2019</td>\n",
       "      <td>365990</td>\n",
       "    </tr>\n",
       "    <tr>\n",
       "      <th>395</th>\n",
       "      <td>Yadadri Bhongir</td>\n",
       "      <td>2019-01-12</td>\n",
       "      <td>December</td>\n",
       "      <td>2019</td>\n",
       "      <td>477635</td>\n",
       "    </tr>\n",
       "  </tbody>\n",
       "</table>\n",
       "</div>"
      ],
      "text/plain": [
       "            district       date      month  year  visitors\n",
       "391  Yadadri Bhongir 2019-01-08     August  2019    389010\n",
       "392  Yadadri Bhongir 2019-01-09  September  2019    366862\n",
       "393  Yadadri Bhongir 2019-01-10    October  2019    381860\n",
       "394  Yadadri Bhongir 2019-01-11   November  2019    365990\n",
       "395  Yadadri Bhongir 2019-01-12   December  2019    477635"
      ]
     },
     "execution_count": 38,
     "metadata": {},
     "output_type": "execute_result"
    }
   ],
   "source": [
    "domestic_visitors.tail()"
   ]
  },
  {
   "cell_type": "code",
   "execution_count": 39,
   "id": "dd564be8",
   "metadata": {},
   "outputs": [
    {
     "name": "stdout",
     "output_type": "stream",
     "text": [
      "Total Number of Rows    :  1512\n",
      "Total Number of Columns :  5\n"
     ]
    }
   ],
   "source": [
    "# Printing Total Numbers of Rows and Columns\n",
    "\n",
    "\n",
    "print(\"Total Number of Rows    : \" , domestic_visitors.shape[0])\n",
    "print(\"Total Number of Columns : \" , domestic_visitors.shape[1])"
   ]
  },
  {
   "cell_type": "code",
   "execution_count": 40,
   "id": "57c8098f",
   "metadata": {},
   "outputs": [
    {
     "data": {
      "text/plain": [
       "0"
      ]
     },
     "execution_count": 40,
     "metadata": {},
     "output_type": "execute_result"
    }
   ],
   "source": [
    "domestic_visitors.isnull().sum().sum()"
   ]
  },
  {
   "cell_type": "code",
   "execution_count": 41,
   "id": "3d89c5a2",
   "metadata": {},
   "outputs": [
    {
     "data": {
      "text/plain": [
       "0"
      ]
     },
     "execution_count": 41,
     "metadata": {},
     "output_type": "execute_result"
    }
   ],
   "source": [
    "domestic_visitors.duplicated().sum().sum()"
   ]
  },
  {
   "cell_type": "code",
   "execution_count": 42,
   "id": "60701e2b",
   "metadata": {},
   "outputs": [],
   "source": [
    "# Saving the Domestic_Visitors.csv file\n",
    "\n",
    "domestic_visitors.to_csv(\"domestic_visitors.csv\",index=False)"
   ]
  },
  {
   "cell_type": "markdown",
   "id": "f42e68ef",
   "metadata": {},
   "source": [
    "## Foreign visitors :"
   ]
  },
  {
   "cell_type": "code",
   "execution_count": 44,
   "id": "4d3e880b",
   "metadata": {},
   "outputs": [],
   "source": [
    "# loading all datasets..\n",
    "\n",
    "fv1 = pd.read_csv(\"E:/challenge_5/C5 Input for participants/foreign_visitors/foreign_visitors_2016.csv\")\n",
    "fv2 = pd.read_csv(\"E:/challenge_5/C5 Input for participants/foreign_visitors/foreign_visitors_2017.csv\")\n",
    "fv3 = pd.read_csv(\"E:/challenge_5/C5 Input for participants/foreign_visitors/foreign_visitors_2018.csv\")\n",
    "fv4 = pd.read_csv(\"E:/challenge_5/C5 Input for participants/foreign_visitors/foreign_visitors_2019.csv\")"
   ]
  },
  {
   "cell_type": "code",
   "execution_count": 45,
   "id": "2a305279",
   "metadata": {},
   "outputs": [
    {
     "name": "stdout",
     "output_type": "stream",
     "text": [
      " First 5 rows of all datasets \n",
      "\n",
      "------------------  2016  ---------------------- \n",
      "\n",
      "    district        date     month  year visitors\n",
      "0  Adilabad  01-01-2016   January  2016        2\n",
      "1  Adilabad  01-02-2016  February  2016        0\n",
      "2  Adilabad  01-03-2016     March  2016        2\n",
      "3  Adilabad  01-04-2016     April  2016        0\n",
      "4  Adilabad  01-05-2016       May  2016        0 \n",
      "\n",
      "------------------  2017 ---------------------- \n",
      "\n",
      "    district        date     month  year visitors\n",
      "0  Adilabad  01-01-2017   January  2017        5\n",
      "1  Adilabad  01-02-2017  February  2017        0\n",
      "2  Adilabad  01-03-2017     March  2017        0\n",
      "3  Adilabad  01-04-2017     April  2017        0\n",
      "4  Adilabad  01-05-2017       May  2017        0 \n",
      "\n",
      "------------------  2018 ---------------------- \n",
      "\n",
      "    district        date     month  year visitors\n",
      "0  Adilabad  01-01-2018   January  2018        0\n",
      "1  Adilabad  01-02-2018  February  2018        0\n",
      "2  Adilabad  01-03-2018     March  2018        0\n",
      "3  Adilabad  01-04-2018     April  2018        0\n",
      "4  Adilabad  01-05-2018       May  2018        0 \n",
      "\n",
      "------------------  2019 ---------------------- \n",
      "\n",
      "    district        date     month  year visitors\n",
      "0  Adilabad  01-01-2019   January  2019        0\n",
      "1  Adilabad  01-02-2019  February  2019        2\n",
      "2  Adilabad  01-03-2019     March  2019        0\n",
      "3  Adilabad  01-04-2019     April  2019        0\n",
      "4  Adilabad  01-05-2019       May  2019        0 \n",
      "\n"
     ]
    }
   ],
   "source": [
    "# print first 5 rows of all datasets...\n",
    "\n",
    "print(\" First 5 rows of all datasets\",\"\\n\")\n",
    "print(\"------------------  2016  ---------------------- \")\n",
    "print(\"\\n\",fv1.head(), \"\\n\")\n",
    "print(\"------------------  2017 ---------------------- \")\n",
    "print(\"\\n\", fv2.head(), \"\\n\")\n",
    "print(\"------------------  2018 ---------------------- \")\n",
    "print(\"\\n\",fv3.head(),\"\\n\")\n",
    "print(\"------------------  2019 ---------------------- \")\n",
    "print(\"\\n\",fv4.head(),\"\\n\")"
   ]
  },
  {
   "cell_type": "code",
   "execution_count": 46,
   "id": "10611861",
   "metadata": {},
   "outputs": [
    {
     "name": "stdout",
     "output_type": "stream",
     "text": [
      "2016 \n",
      "\n",
      "Total Number of Rows    :  372\n",
      "Total Number of Columns :  5\n",
      "\n",
      "\n",
      "2017 \n",
      "\n",
      "Total Number of Rows    :  372\n",
      "Total Number of Columns :  5\n",
      "\n",
      "\n",
      "2018 \n",
      "\n",
      "Total Number of Rows    :  372\n",
      "Total Number of Columns :  5\n",
      "\n",
      "\n",
      "2019 \n",
      "\n",
      "Total Number of Rows    :  396\n",
      "Total Number of Columns :  5\n"
     ]
    }
   ],
   "source": [
    "# Printing Total Rows and Columns of All Dataset\n",
    "\n",
    "print(\"2016 \\n\")\n",
    "print(\"Total Number of Rows    : \", fv1.shape[0])\n",
    "print(\"Total Number of Columns : \", fv1.shape[1])\n",
    "print(\"\\n\")\n",
    "\n",
    "print(\"2017 \\n\")\n",
    "print(\"Total Number of Rows    : \", fv2.shape[0])\n",
    "print(\"Total Number of Columns : \", fv2.shape[1])\n",
    "print(\"\\n\")\n",
    "\n",
    "print(\"2018 \\n\")\n",
    "print(\"Total Number of Rows    : \", fv3.shape[0])\n",
    "print(\"Total Number of Columns : \", fv3.shape[1])\n",
    "print(\"\\n\")\n",
    "\n",
    "print(\"2019 \\n\")\n",
    "print(\"Total Number of Rows    : \", fv4.shape[0])\n",
    "print(\"Total Number of Columns : \", fv4.shape[1])\n",
    " "
   ]
  },
  {
   "cell_type": "code",
   "execution_count": 47,
   "id": "4951f0e9",
   "metadata": {},
   "outputs": [
    {
     "name": "stdout",
     "output_type": "stream",
     "text": [
      "2016 \n",
      " district    0\n",
      "date        0\n",
      "month       0\n",
      "year        0\n",
      "visitors    0\n",
      "dtype: int64 \n",
      "\n",
      "2017 \n",
      " district    0\n",
      "date        0\n",
      "month       0\n",
      "year        0\n",
      "visitors    0\n",
      "dtype: int64 \n",
      "\n",
      "2018 \n",
      " district    0\n",
      "date        0\n",
      "month       0\n",
      "year        0\n",
      "visitors    0\n",
      "dtype: int64 \n",
      "\n",
      "2019 \n",
      " district    0\n",
      "date        0\n",
      "month       0\n",
      "year        0\n",
      "visitors    0\n",
      "dtype: int64\n"
     ]
    }
   ],
   "source": [
    "# Printing the Null Values of All Dataset\n",
    "\n",
    "print(\"2016 \\n\", fv1.isnull().sum() , \"\\n\")\n",
    "\n",
    "print(\"2017 \\n\", fv2.isnull().sum() , \"\\n\")\n",
    "\n",
    "print(\"2018 \\n\", fv3.isnull().sum() , \"\\n\")\n",
    "\n",
    "print(\"2019 \\n\", fv4.isnull().sum())"
   ]
  },
  {
   "cell_type": "code",
   "execution_count": 48,
   "id": "1ae3158a",
   "metadata": {},
   "outputs": [
    {
     "name": "stdout",
     "output_type": "stream",
     "text": [
      "2016 \n",
      " 0\n",
      "2017 \n",
      " 0\n",
      "2018 \n",
      " 0\n",
      "2019 \n",
      " 0\n"
     ]
    }
   ],
   "source": [
    "# Printing the Duplicates Values\n",
    "\n",
    "print(\"2016 \\n\", fv1.duplicated().sum())\n",
    "print(\"2017 \\n\", fv2.duplicated().sum())\n",
    "print(\"2018 \\n\", fv3.duplicated().sum())\n",
    "print(\"2019 \\n\", fv4.duplicated().sum())"
   ]
  },
  {
   "cell_type": "code",
   "execution_count": 49,
   "id": "9afad5cb",
   "metadata": {},
   "outputs": [],
   "source": [
    "# Removing the White Space\n",
    "\n",
    "fv1.visitors = fv1.visitors.str.replace(' ','')\n",
    "fv2.visitors = fv2.visitors.str.replace(' ','')\n",
    "fv3.visitors = fv3.visitors.str.replace(' ','')\n",
    "fv4.visitors = fv4.visitors.str.replace(' ','')"
   ]
  },
  {
   "cell_type": "code",
   "execution_count": 50,
   "id": "375ff705",
   "metadata": {},
   "outputs": [],
   "source": [
    "# Converting the dtypes of columns\n",
    "\n",
    "fv1['date'] = pd.to_datetime(fv1['date'])\n",
    "fv2['date'] = pd.to_datetime(fv2['date'])\n",
    "fv3['date'] = pd.to_datetime(fv3['date'])\n",
    "fv4['date'] = pd.to_datetime(fv4['date'])\n",
    "\n",
    "\n",
    "fv1['year'] = fv1['year'].astype('int32')\n",
    "fv2['year'] = fv2['year'].astype('int32')\n",
    "fv3['year'] = fv3['year'].astype('int32')\n",
    "fv4['year'] = fv4['year'].astype('int32') \n",
    "\n",
    "fv1['visitors'] = pd.to_numeric(fv1['visitors'], errors='coerce')\n",
    "fv2['visitors'] = pd.to_numeric(fv2['visitors'], errors='coerce')\n",
    "fv3['visitors'] = pd.to_numeric(fv3['visitors'], errors='coerce')\n",
    "fv4['visitors'] = pd.to_numeric(fv4['visitors'], errors='coerce')"
   ]
  },
  {
   "cell_type": "code",
   "execution_count": 51,
   "id": "c906b9ef",
   "metadata": {},
   "outputs": [],
   "source": [
    "# replace NaN and inf values with zero\n",
    "\n",
    "fv1['visitors'] = fv1['visitors'].replace([np.nan, np.inf], 0)\n",
    "fv2['visitors'] = fv2['visitors'].replace([np.nan, np.inf], 0)\n",
    "fv3['visitors'] = fv3['visitors'].replace([np.nan, np.inf], 0)\n",
    "fv4['visitors'] = fv4['visitors'].replace([np.nan, np.inf], 0)\n"
   ]
  },
  {
   "cell_type": "code",
   "execution_count": 52,
   "id": "0663b211",
   "metadata": {},
   "outputs": [],
   "source": [
    "# cast the column to int32\n",
    "\n",
    "fv1['visitors'] = fv1['visitors'].astype('int32')\n",
    "fv2['visitors'] = fv2['visitors'].astype('int32')\n",
    "fv3['visitors'] = fv3['visitors'].astype('int32')\n",
    "fv4['visitors'] = fv4['visitors'].astype('int32')"
   ]
  },
  {
   "cell_type": "code",
   "execution_count": 53,
   "id": "195bb087",
   "metadata": {},
   "outputs": [
    {
     "data": {
      "text/html": [
       "<div>\n",
       "<style scoped>\n",
       "    .dataframe tbody tr th:only-of-type {\n",
       "        vertical-align: middle;\n",
       "    }\n",
       "\n",
       "    .dataframe tbody tr th {\n",
       "        vertical-align: top;\n",
       "    }\n",
       "\n",
       "    .dataframe thead th {\n",
       "        text-align: right;\n",
       "    }\n",
       "</style>\n",
       "<table border=\"1\" class=\"dataframe\">\n",
       "  <thead>\n",
       "    <tr style=\"text-align: right;\">\n",
       "      <th></th>\n",
       "      <th>district</th>\n",
       "      <th>date</th>\n",
       "      <th>month</th>\n",
       "      <th>year</th>\n",
       "      <th>visitors</th>\n",
       "    </tr>\n",
       "  </thead>\n",
       "  <tbody>\n",
       "    <tr>\n",
       "      <th>0</th>\n",
       "      <td>Adilabad</td>\n",
       "      <td>2016-01-01</td>\n",
       "      <td>January</td>\n",
       "      <td>2016</td>\n",
       "      <td>2</td>\n",
       "    </tr>\n",
       "    <tr>\n",
       "      <th>1</th>\n",
       "      <td>Adilabad</td>\n",
       "      <td>2016-01-02</td>\n",
       "      <td>February</td>\n",
       "      <td>2016</td>\n",
       "      <td>0</td>\n",
       "    </tr>\n",
       "    <tr>\n",
       "      <th>2</th>\n",
       "      <td>Adilabad</td>\n",
       "      <td>2016-01-03</td>\n",
       "      <td>March</td>\n",
       "      <td>2016</td>\n",
       "      <td>2</td>\n",
       "    </tr>\n",
       "    <tr>\n",
       "      <th>3</th>\n",
       "      <td>Adilabad</td>\n",
       "      <td>2016-01-04</td>\n",
       "      <td>April</td>\n",
       "      <td>2016</td>\n",
       "      <td>0</td>\n",
       "    </tr>\n",
       "    <tr>\n",
       "      <th>4</th>\n",
       "      <td>Adilabad</td>\n",
       "      <td>2016-01-05</td>\n",
       "      <td>May</td>\n",
       "      <td>2016</td>\n",
       "      <td>0</td>\n",
       "    </tr>\n",
       "  </tbody>\n",
       "</table>\n",
       "</div>"
      ],
      "text/plain": [
       "   district       date     month  year  visitors\n",
       "0  Adilabad 2016-01-01   January  2016         2\n",
       "1  Adilabad 2016-01-02  February  2016         0\n",
       "2  Adilabad 2016-01-03     March  2016         2\n",
       "3  Adilabad 2016-01-04     April  2016         0\n",
       "4  Adilabad 2016-01-05       May  2016         0"
      ]
     },
     "execution_count": 53,
     "metadata": {},
     "output_type": "execute_result"
    }
   ],
   "source": [
    "# Merging all Dataset into one Dataset named Domestic_Visitors\n",
    "\n",
    "foreign_visitors = pd.concat([fv1, fv2, fv3, fv4], axis=0)\n",
    "\n",
    "# Printing the Top 5 Rows of Dataset\n",
    "\n",
    "foreign_visitors.head()"
   ]
  },
  {
   "cell_type": "code",
   "execution_count": 54,
   "id": "b502d530",
   "metadata": {},
   "outputs": [
    {
     "data": {
      "text/html": [
       "<div>\n",
       "<style scoped>\n",
       "    .dataframe tbody tr th:only-of-type {\n",
       "        vertical-align: middle;\n",
       "    }\n",
       "\n",
       "    .dataframe tbody tr th {\n",
       "        vertical-align: top;\n",
       "    }\n",
       "\n",
       "    .dataframe thead th {\n",
       "        text-align: right;\n",
       "    }\n",
       "</style>\n",
       "<table border=\"1\" class=\"dataframe\">\n",
       "  <thead>\n",
       "    <tr style=\"text-align: right;\">\n",
       "      <th></th>\n",
       "      <th>district</th>\n",
       "      <th>date</th>\n",
       "      <th>month</th>\n",
       "      <th>year</th>\n",
       "      <th>visitors</th>\n",
       "    </tr>\n",
       "  </thead>\n",
       "  <tbody>\n",
       "    <tr>\n",
       "      <th>391</th>\n",
       "      <td>Yadadri Bhongir</td>\n",
       "      <td>2019-01-08</td>\n",
       "      <td>August</td>\n",
       "      <td>2019</td>\n",
       "      <td>0</td>\n",
       "    </tr>\n",
       "    <tr>\n",
       "      <th>392</th>\n",
       "      <td>Yadadri Bhongir</td>\n",
       "      <td>2019-01-09</td>\n",
       "      <td>September</td>\n",
       "      <td>2019</td>\n",
       "      <td>0</td>\n",
       "    </tr>\n",
       "    <tr>\n",
       "      <th>393</th>\n",
       "      <td>Yadadri Bhongir</td>\n",
       "      <td>2019-01-10</td>\n",
       "      <td>October</td>\n",
       "      <td>2019</td>\n",
       "      <td>0</td>\n",
       "    </tr>\n",
       "    <tr>\n",
       "      <th>394</th>\n",
       "      <td>Yadadri Bhongir</td>\n",
       "      <td>2019-01-11</td>\n",
       "      <td>November</td>\n",
       "      <td>2019</td>\n",
       "      <td>0</td>\n",
       "    </tr>\n",
       "    <tr>\n",
       "      <th>395</th>\n",
       "      <td>Yadadri Bhongir</td>\n",
       "      <td>2019-01-12</td>\n",
       "      <td>December</td>\n",
       "      <td>2019</td>\n",
       "      <td>0</td>\n",
       "    </tr>\n",
       "  </tbody>\n",
       "</table>\n",
       "</div>"
      ],
      "text/plain": [
       "            district       date      month  year  visitors\n",
       "391  Yadadri Bhongir 2019-01-08     August  2019         0\n",
       "392  Yadadri Bhongir 2019-01-09  September  2019         0\n",
       "393  Yadadri Bhongir 2019-01-10    October  2019         0\n",
       "394  Yadadri Bhongir 2019-01-11   November  2019         0\n",
       "395  Yadadri Bhongir 2019-01-12   December  2019         0"
      ]
     },
     "execution_count": 54,
     "metadata": {},
     "output_type": "execute_result"
    }
   ],
   "source": [
    "foreign_visitors.tail()"
   ]
  },
  {
   "cell_type": "code",
   "execution_count": 55,
   "id": "11661051",
   "metadata": {},
   "outputs": [],
   "source": [
    "# Saving the fomestic_Visitors.csv file\n",
    "\n",
    "foreign_visitors.to_csv(\"foreign_visitors.csv\",index=False)"
   ]
  },
  {
   "cell_type": "markdown",
   "id": "8aaeda46",
   "metadata": {},
   "source": [
    "### Merging domestic and foreign visitors datasets :"
   ]
  },
  {
   "cell_type": "code",
   "execution_count": 58,
   "id": "d6de3473",
   "metadata": {},
   "outputs": [],
   "source": [
    "domestic = pd.read_csv(\"E://challenge_5//C5 Input for participants//domestic_visitors.csv\")\n",
    "foreign = pd.read_csv(\"E://challenge_5//C5 Input for participants//foreign_visitors.csv\")"
   ]
  },
  {
   "cell_type": "code",
   "execution_count": 59,
   "id": "7de2a68a",
   "metadata": {},
   "outputs": [
    {
     "name": "stdout",
     "output_type": "stream",
     "text": [
      "Domestic Dataset Total Number of Rows and Columns :  (1512, 5)\n",
      "Foreign Dataset Total Number of Rows and Columns :  (1512, 5)\n"
     ]
    }
   ],
   "source": [
    "print(\"Domestic Dataset Total Number of Rows and Columns : \", domestic.shape )\n",
    "print(\"Foreign Dataset Total Number of Rows and Columns : \", foreign.shape )"
   ]
  },
  {
   "cell_type": "code",
   "execution_count": 60,
   "id": "82c8d72d",
   "metadata": {},
   "outputs": [],
   "source": [
    "# rename the visitors columns in both datasets..\n",
    "\n",
    "foreign.rename(columns={\"visitors\" : \"foreign_visitors\"}, inplace=True)\n",
    "domestic.rename(columns={'visitors' : \"domestic_visitors\"}, inplace=True)\n",
    "                        "
   ]
  },
  {
   "cell_type": "code",
   "execution_count": 61,
   "id": "1e1c6a85",
   "metadata": {},
   "outputs": [],
   "source": [
    "# merging two datasets...\n",
    "\n",
    "total_visitors = pd.concat([domestic, foreign['foreign_visitors']], axis=1)"
   ]
  },
  {
   "cell_type": "code",
   "execution_count": 63,
   "id": "3d7ca61f",
   "metadata": {},
   "outputs": [
    {
     "data": {
      "text/plain": [
       "(1512, 6)"
      ]
     },
     "execution_count": 63,
     "metadata": {},
     "output_type": "execute_result"
    }
   ],
   "source": [
    "total_visitors.shape"
   ]
  },
  {
   "cell_type": "code",
   "execution_count": 64,
   "id": "081d031c",
   "metadata": {},
   "outputs": [
    {
     "data": {
      "text/plain": [
       "district             0\n",
       "date                 0\n",
       "month                0\n",
       "year                 0\n",
       "domestic_visitors    0\n",
       "foreign_visitors     0\n",
       "dtype: int64"
      ]
     },
     "execution_count": 64,
     "metadata": {},
     "output_type": "execute_result"
    }
   ],
   "source": [
    "total_visitors.isnull().sum()"
   ]
  },
  {
   "cell_type": "code",
   "execution_count": 67,
   "id": "685124e7",
   "metadata": {},
   "outputs": [],
   "source": [
    "total_visitors.domestic_visitors = total_visitors.domestic_visitors.astype(int)\n",
    "total_visitors.foreign_visitors = total_visitors.foreign_visitors.astype(int)\n",
    "total_visitors.year = total_visitors.year.astype(int)\n",
    "total_visitors['total_visitors'] = total_visitors['domestic_visitors'] + total_visitors['foreign_visitors']"
   ]
  },
  {
   "cell_type": "code",
   "execution_count": 68,
   "id": "ce0820d3",
   "metadata": {},
   "outputs": [
    {
     "data": {
      "text/html": [
       "<div>\n",
       "<style scoped>\n",
       "    .dataframe tbody tr th:only-of-type {\n",
       "        vertical-align: middle;\n",
       "    }\n",
       "\n",
       "    .dataframe tbody tr th {\n",
       "        vertical-align: top;\n",
       "    }\n",
       "\n",
       "    .dataframe thead th {\n",
       "        text-align: right;\n",
       "    }\n",
       "</style>\n",
       "<table border=\"1\" class=\"dataframe\">\n",
       "  <thead>\n",
       "    <tr style=\"text-align: right;\">\n",
       "      <th></th>\n",
       "      <th>district</th>\n",
       "      <th>date</th>\n",
       "      <th>month</th>\n",
       "      <th>year</th>\n",
       "      <th>domestic_visitors</th>\n",
       "      <th>foreign_visitors</th>\n",
       "      <th>total_visitors</th>\n",
       "    </tr>\n",
       "  </thead>\n",
       "  <tbody>\n",
       "    <tr>\n",
       "      <th>0</th>\n",
       "      <td>Adilabad</td>\n",
       "      <td>2016-01-01</td>\n",
       "      <td>January</td>\n",
       "      <td>2016</td>\n",
       "      <td>792136</td>\n",
       "      <td>2</td>\n",
       "      <td>792138</td>\n",
       "    </tr>\n",
       "    <tr>\n",
       "      <th>1</th>\n",
       "      <td>Adilabad</td>\n",
       "      <td>2016-01-02</td>\n",
       "      <td>February</td>\n",
       "      <td>2016</td>\n",
       "      <td>937820</td>\n",
       "      <td>0</td>\n",
       "      <td>937820</td>\n",
       "    </tr>\n",
       "    <tr>\n",
       "      <th>2</th>\n",
       "      <td>Adilabad</td>\n",
       "      <td>2016-01-03</td>\n",
       "      <td>March</td>\n",
       "      <td>2016</td>\n",
       "      <td>582946</td>\n",
       "      <td>2</td>\n",
       "      <td>582948</td>\n",
       "    </tr>\n",
       "    <tr>\n",
       "      <th>3</th>\n",
       "      <td>Adilabad</td>\n",
       "      <td>2016-01-04</td>\n",
       "      <td>April</td>\n",
       "      <td>2016</td>\n",
       "      <td>341948</td>\n",
       "      <td>0</td>\n",
       "      <td>341948</td>\n",
       "    </tr>\n",
       "    <tr>\n",
       "      <th>4</th>\n",
       "      <td>Adilabad</td>\n",
       "      <td>2016-01-05</td>\n",
       "      <td>May</td>\n",
       "      <td>2016</td>\n",
       "      <td>252887</td>\n",
       "      <td>0</td>\n",
       "      <td>252887</td>\n",
       "    </tr>\n",
       "  </tbody>\n",
       "</table>\n",
       "</div>"
      ],
      "text/plain": [
       "   district        date     month  year  domestic_visitors  foreign_visitors  \\\n",
       "0  Adilabad  2016-01-01   January  2016             792136                 2   \n",
       "1  Adilabad  2016-01-02  February  2016             937820                 0   \n",
       "2  Adilabad  2016-01-03     March  2016             582946                 2   \n",
       "3  Adilabad  2016-01-04     April  2016             341948                 0   \n",
       "4  Adilabad  2016-01-05       May  2016             252887                 0   \n",
       "\n",
       "   total_visitors  \n",
       "0          792138  \n",
       "1          937820  \n",
       "2          582948  \n",
       "3          341948  \n",
       "4          252887  "
      ]
     },
     "execution_count": 68,
     "metadata": {},
     "output_type": "execute_result"
    }
   ],
   "source": [
    "total_visitors.head()"
   ]
  },
  {
   "cell_type": "code",
   "execution_count": 69,
   "id": "9a3f5985",
   "metadata": {},
   "outputs": [
    {
     "data": {
      "text/html": [
       "<div>\n",
       "<style scoped>\n",
       "    .dataframe tbody tr th:only-of-type {\n",
       "        vertical-align: middle;\n",
       "    }\n",
       "\n",
       "    .dataframe tbody tr th {\n",
       "        vertical-align: top;\n",
       "    }\n",
       "\n",
       "    .dataframe thead th {\n",
       "        text-align: right;\n",
       "    }\n",
       "</style>\n",
       "<table border=\"1\" class=\"dataframe\">\n",
       "  <thead>\n",
       "    <tr style=\"text-align: right;\">\n",
       "      <th></th>\n",
       "      <th>district</th>\n",
       "      <th>date</th>\n",
       "      <th>month</th>\n",
       "      <th>year</th>\n",
       "      <th>domestic_visitors</th>\n",
       "      <th>foreign_visitors</th>\n",
       "      <th>total_visitors</th>\n",
       "    </tr>\n",
       "  </thead>\n",
       "  <tbody>\n",
       "    <tr>\n",
       "      <th>1507</th>\n",
       "      <td>Yadadri Bhongir</td>\n",
       "      <td>2019-01-08</td>\n",
       "      <td>August</td>\n",
       "      <td>2019</td>\n",
       "      <td>389010</td>\n",
       "      <td>0</td>\n",
       "      <td>389010</td>\n",
       "    </tr>\n",
       "    <tr>\n",
       "      <th>1508</th>\n",
       "      <td>Yadadri Bhongir</td>\n",
       "      <td>2019-01-09</td>\n",
       "      <td>September</td>\n",
       "      <td>2019</td>\n",
       "      <td>366862</td>\n",
       "      <td>0</td>\n",
       "      <td>366862</td>\n",
       "    </tr>\n",
       "    <tr>\n",
       "      <th>1509</th>\n",
       "      <td>Yadadri Bhongir</td>\n",
       "      <td>2019-01-10</td>\n",
       "      <td>October</td>\n",
       "      <td>2019</td>\n",
       "      <td>381860</td>\n",
       "      <td>0</td>\n",
       "      <td>381860</td>\n",
       "    </tr>\n",
       "    <tr>\n",
       "      <th>1510</th>\n",
       "      <td>Yadadri Bhongir</td>\n",
       "      <td>2019-01-11</td>\n",
       "      <td>November</td>\n",
       "      <td>2019</td>\n",
       "      <td>365990</td>\n",
       "      <td>0</td>\n",
       "      <td>365990</td>\n",
       "    </tr>\n",
       "    <tr>\n",
       "      <th>1511</th>\n",
       "      <td>Yadadri Bhongir</td>\n",
       "      <td>2019-01-12</td>\n",
       "      <td>December</td>\n",
       "      <td>2019</td>\n",
       "      <td>477635</td>\n",
       "      <td>0</td>\n",
       "      <td>477635</td>\n",
       "    </tr>\n",
       "  </tbody>\n",
       "</table>\n",
       "</div>"
      ],
      "text/plain": [
       "             district        date      month  year  domestic_visitors  \\\n",
       "1507  Yadadri Bhongir  2019-01-08     August  2019             389010   \n",
       "1508  Yadadri Bhongir  2019-01-09  September  2019             366862   \n",
       "1509  Yadadri Bhongir  2019-01-10    October  2019             381860   \n",
       "1510  Yadadri Bhongir  2019-01-11   November  2019             365990   \n",
       "1511  Yadadri Bhongir  2019-01-12   December  2019             477635   \n",
       "\n",
       "      foreign_visitors  total_visitors  \n",
       "1507                 0          389010  \n",
       "1508                 0          366862  \n",
       "1509                 0          381860  \n",
       "1510                 0          365990  \n",
       "1511                 0          477635  "
      ]
     },
     "execution_count": 69,
     "metadata": {},
     "output_type": "execute_result"
    }
   ],
   "source": [
    "total_visitors.tail()"
   ]
  },
  {
   "cell_type": "code",
   "execution_count": 70,
   "id": "2f42ef17",
   "metadata": {},
   "outputs": [],
   "source": [
    "# saving the total_visitors file into csv form...\n",
    "\n",
    "total_visitors.to_csv(\"total_visitors.csv\", index=False)"
   ]
  },
  {
   "cell_type": "code",
   "execution_count": 71,
   "id": "db8ea0af",
   "metadata": {},
   "outputs": [
    {
     "data": {
      "text/html": [
       "<div>\n",
       "<style scoped>\n",
       "    .dataframe tbody tr th:only-of-type {\n",
       "        vertical-align: middle;\n",
       "    }\n",
       "\n",
       "    .dataframe tbody tr th {\n",
       "        vertical-align: top;\n",
       "    }\n",
       "\n",
       "    .dataframe thead th {\n",
       "        text-align: right;\n",
       "    }\n",
       "</style>\n",
       "<table border=\"1\" class=\"dataframe\">\n",
       "  <thead>\n",
       "    <tr style=\"text-align: right;\">\n",
       "      <th></th>\n",
       "      <th>district</th>\n",
       "      <th>date</th>\n",
       "      <th>month</th>\n",
       "      <th>year</th>\n",
       "      <th>domestic_visitors</th>\n",
       "      <th>foreign_visitors</th>\n",
       "      <th>total_visitors</th>\n",
       "    </tr>\n",
       "  </thead>\n",
       "  <tbody>\n",
       "    <tr>\n",
       "      <th>0</th>\n",
       "      <td>Adilabad</td>\n",
       "      <td>2016-01-01</td>\n",
       "      <td>January</td>\n",
       "      <td>2016</td>\n",
       "      <td>792136</td>\n",
       "      <td>2</td>\n",
       "      <td>792138</td>\n",
       "    </tr>\n",
       "    <tr>\n",
       "      <th>1</th>\n",
       "      <td>Adilabad</td>\n",
       "      <td>2016-01-02</td>\n",
       "      <td>February</td>\n",
       "      <td>2016</td>\n",
       "      <td>937820</td>\n",
       "      <td>0</td>\n",
       "      <td>937820</td>\n",
       "    </tr>\n",
       "    <tr>\n",
       "      <th>2</th>\n",
       "      <td>Adilabad</td>\n",
       "      <td>2016-01-03</td>\n",
       "      <td>March</td>\n",
       "      <td>2016</td>\n",
       "      <td>582946</td>\n",
       "      <td>2</td>\n",
       "      <td>582948</td>\n",
       "    </tr>\n",
       "    <tr>\n",
       "      <th>3</th>\n",
       "      <td>Adilabad</td>\n",
       "      <td>2016-01-04</td>\n",
       "      <td>April</td>\n",
       "      <td>2016</td>\n",
       "      <td>341948</td>\n",
       "      <td>0</td>\n",
       "      <td>341948</td>\n",
       "    </tr>\n",
       "    <tr>\n",
       "      <th>4</th>\n",
       "      <td>Adilabad</td>\n",
       "      <td>2016-01-05</td>\n",
       "      <td>May</td>\n",
       "      <td>2016</td>\n",
       "      <td>252887</td>\n",
       "      <td>0</td>\n",
       "      <td>252887</td>\n",
       "    </tr>\n",
       "  </tbody>\n",
       "</table>\n",
       "</div>"
      ],
      "text/plain": [
       "   district        date     month  year  domestic_visitors  foreign_visitors  \\\n",
       "0  Adilabad  2016-01-01   January  2016             792136                 2   \n",
       "1  Adilabad  2016-01-02  February  2016             937820                 0   \n",
       "2  Adilabad  2016-01-03     March  2016             582946                 2   \n",
       "3  Adilabad  2016-01-04     April  2016             341948                 0   \n",
       "4  Adilabad  2016-01-05       May  2016             252887                 0   \n",
       "\n",
       "   total_visitors  \n",
       "0          792138  \n",
       "1          937820  \n",
       "2          582948  \n",
       "3          341948  \n",
       "4          252887  "
      ]
     },
     "execution_count": 71,
     "metadata": {},
     "output_type": "execute_result"
    }
   ],
   "source": [
    "total_visitors.head()"
   ]
  },
  {
   "cell_type": "code",
   "execution_count": null,
   "id": "f252563f",
   "metadata": {},
   "outputs": [],
   "source": []
  }
 ],
 "metadata": {
  "kernelspec": {
   "display_name": "Python 3 (ipykernel)",
   "language": "python",
   "name": "python3"
  },
  "language_info": {
   "codemirror_mode": {
    "name": "ipython",
    "version": 3
   },
   "file_extension": ".py",
   "mimetype": "text/x-python",
   "name": "python",
   "nbconvert_exporter": "python",
   "pygments_lexer": "ipython3",
   "version": "3.9.7"
  }
 },
 "nbformat": 4,
 "nbformat_minor": 5
}
